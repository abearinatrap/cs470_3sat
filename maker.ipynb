{
 "cells": [
  {
   "cell_type": "code",
   "execution_count": 5,
   "metadata": {},
   "outputs": [],
   "source": [
    "# Andrew Renninger\n",
    "import random\n",
    "FILENAME = \"good10.txt\"\n",
    "f = open(FILENAME,\"w\")\n",
    "numVariables = 10\n",
    "f.write(str(numVariables)+\"\\n\")\n",
    "for i in range(50):\n",
    "    for a in range(2):\n",
    "        var = random.randint(1,numVariables)\n",
    "        k = random.randint(0,1)\n",
    "        if k==0:\n",
    "            var = -var\n",
    "        f.write(str(var))\n",
    "        f.write(\" \")\n",
    "    \n",
    "    b = random.randint(0,15)\n",
    "    if b != 0:\n",
    "        var = random.randint(1,numVariables)\n",
    "        k = random.randint(0,1)\n",
    "        if k==0:\n",
    "            var = -var\n",
    "    f.write(str(var))\n",
    "    f.write(\"\\n\")\n",
    "f.close()"
   ]
  }
 ],
 "metadata": {
  "kernelspec": {
   "display_name": "Python 3",
   "language": "python",
   "name": "python3"
  },
  "language_info": {
   "codemirror_mode": {
    "name": "ipython",
    "version": 3
   },
   "file_extension": ".py",
   "mimetype": "text/x-python",
   "name": "python",
   "nbconvert_exporter": "python",
   "pygments_lexer": "ipython3",
   "version": "3.10.10"
  },
  "orig_nbformat": 4
 },
 "nbformat": 4,
 "nbformat_minor": 2
}
