{
 "cells": [
  {
   "cell_type": "code",
   "execution_count": 1,
   "metadata": {},
   "outputs": [
    {
     "name": "stdout",
     "output_type": "stream",
     "text": [
      "1 1 0 0 1 1 1 1 0 1 0 0 1 1 0 1 0 1 1 0 1 1 0 1 0 1 0 0 1 1 1 1 1 0 1 1 0 1 0 0 1 0 0 1 1 0 0 1 1 1 1 1 1 1 0 1 0 0 0 0 1 0 1 1 0 0 0 0 1 0 1 0 1 0 1 1 1 0 0 1 0 1 0 0 1 0 0 1 1 1 1 1 0 0 0 0 1 0 0 0\n",
      "solution works\n"
     ]
    }
   ],
   "source": [
    "values = \"1 1 0 0 1 1 1 1 0 1 0 0 1 1 0 1 0 1 1 0 1 1 0 1 0 1 0 0 1 1 1 1 1 0 1 1 0 1 0 0 1 0 0 1 1 0 0 1 1 1 1 1 1 1 0 1 0 0 0 0 1 0 1 1 0 0 0 0 1 0 1 0 1 0 1 1 1 0 0 1 0 1 0 0 1 0 0 1 1 1 1 1 0 0 0 0 1 0 0 0\"\n",
    "print(values)\n",
    "FILENAME = \"input6.txt\"\n",
    "bvalues = values.split()\n",
    "def check():\n",
    "    f = open(FILENAME,\"r\")\n",
    "    line = f.readline()\n",
    "    num_variables = int(line)\n",
    "    clause_num = 1\n",
    "    while line!=\"\":\n",
    "        line = f.readline()\n",
    "        if len(line)==0:\n",
    "            break\n",
    "        lit = list(map(int,line.split()))\n",
    "        ctrue = False\n",
    "        for i in range(3):\n",
    "            var = abs(lit[i]) - 1\n",
    "            truth_value = bvalues[var]\n",
    "            if lit[i] < 0:\n",
    "                if truth_value=='0':\n",
    "                    ctrue = True\n",
    "            else:\n",
    "                if truth_value=='1':\n",
    "                    ctrue = True\n",
    "        if not ctrue:\n",
    "            print(\"claus\",clause_num, \"fail\")\n",
    "            return\n",
    "        clause_num += 1\n",
    "    f.close()\n",
    "    print(\"solution works\")\n",
    "check()"
   ]
  }
 ],
 "metadata": {
  "kernelspec": {
   "display_name": "Python 3",
   "language": "python",
   "name": "python3"
  },
  "language_info": {
   "codemirror_mode": {
    "name": "ipython",
    "version": 3
   },
   "file_extension": ".py",
   "mimetype": "text/x-python",
   "name": "python",
   "nbconvert_exporter": "python",
   "pygments_lexer": "ipython3",
   "version": "3.10.10"
  },
  "orig_nbformat": 4
 },
 "nbformat": 4,
 "nbformat_minor": 2
}
