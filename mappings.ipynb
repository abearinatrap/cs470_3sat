{
 "cells": [
  {
   "cell_type": "code",
   "execution_count": 24,
   "metadata": {},
   "outputs": [],
   "source": [
    "#input file in 3SAT format\n",
    "INPUT_FILE = \"3sat_test.txt\"\n",
    "#output file for the vertex cover mapping\n",
    "OUTPUT_FILE_VC = \"vertexcover_awrenninger_small.txt\"\n",
    "#output file for the independent set mapping\n",
    "OUTPUT_FILE_IS = \"independentset_awrenninger.txt\"\n",
    "\n",
    "#output file for the SAT to 3SAT mapping\n",
    "OUTPUT_FILE_3SAT = \"3sat_awrenninger_conv.txt\""
   ]
  },
  {
   "cell_type": "code",
   "execution_count": 26,
   "metadata": {},
   "outputs": [
    {
     "name": "stdout",
     "output_type": "stream",
     "text": [
      "{(-2, 1, 3), (-1, 2, 3), (-1, 2, 4)}\n"
     ]
    }
   ],
   "source": [
    "clauses = set()\n",
    "with open(INPUT_FILE,\"r\") as f:\n",
    "    line = f.readline()\n",
    "    num_variables = int(line)\n",
    "    clause_num = 0\n",
    "    while line!=\"\" or line!=\"$\":\n",
    "        line = f.readline()\n",
    "        if len(line)==0:\n",
    "            break\n",
    "        if line==\"$\":\n",
    "            break\n",
    "        lit = list(map(int,line.split()))\n",
    "        lit.sort()\n",
    "        lit = tuple(lit)\n",
    "        clauses.add(lit)\n",
    "print(clauses)\n",
    "clauses = list(clauses)\n",
    "num_clauses = len(clauses)"
   ]
  },
  {
   "cell_type": "code",
   "execution_count": 28,
   "metadata": {},
   "outputs": [],
   "source": [
    "def edgestr(a,b,w=1,undirected=True):\n",
    "    if undirected:\n",
    "        return str(a)+\" \"+str(b)+\" \"+str(w)+\"\\n\"+str(b)+\" \"+str(a)+\" \"+str(w)+\"\\n\"\n",
    "    return str(a)+\" \"+str(b)+\" \"+str(w)+\"\\n\""
   ]
  },
  {
   "cell_type": "code",
   "execution_count": 22,
   "metadata": {},
   "outputs": [],
   "source": [
    "# k - vertex cover\n",
    "# https://cs.stackexchange.com/questions/57510/reduction-of-3-sat-to-vertex-cover\n",
    "# http://web.mit.edu/~neboat/www/6.046-fa09/rec8.pdf\n",
    "with open(OUTPUT_FILE_VC, \"w\") as f:\n",
    "    # where k = numVariables + 2*numClauses\n",
    "\n",
    "    # two vertices for every variable, for norm and negation, linked by edge\n",
    "    # so negative is 2*i\n",
    "    # pos is 2*i - 1\n",
    "    for i in range(1,num_variables+1):\n",
    "        f.write(edgestr(i,i+1))\n",
    "    # number of vertices for clauses starts at 2*numVariables + 1\n",
    "    cnum = 2*num_variables+1\n",
    "    for i in range(num_clauses):\n",
    "        #num_clauses[i][0]\n",
    "        #edges with each other\n",
    "        f.write(edgestr(cnum,cnum+1))\n",
    "        f.write(edgestr(cnum+1,cnum+2))\n",
    "        f.write(edgestr(cnum,cnum+2))\n",
    "        #edges to variables\n",
    "        for j in range(3):\n",
    "            a = clauses[i][j]\n",
    "            if a<0:\n",
    "                a = -a\n",
    "                a = 2*a\n",
    "                f.write(edgestr(cnum+j,a))\n",
    "            else:\n",
    "                a = 2 * a - 1\n",
    "                f.write(edgestr(cnum+j,a))\n",
    "        cnum += 3\n",
    "    f.write(\"$\")\n"
   ]
  },
  {
   "cell_type": "code",
   "execution_count": 31,
   "metadata": {},
   "outputs": [
    {
     "name": "stdout",
     "output_type": "stream",
     "text": [
      "{2: [1], -1: [2], -3: [3]}\n",
      "{2: [1], -1: [2], -3: [3, 6], 1: [4], -2: [5]}\n",
      "{2: [1], -1: [2], -3: [3, 6], 1: [4, 7], -2: [5, 8], -4: [9]}\n"
     ]
    }
   ],
   "source": [
    "# k - independent set\n",
    "cnum = 1\n",
    "old = dict()\n",
    "with open(OUTPUT_FILE_IS,\"w\") as f:\n",
    "    for i in range(num_clauses):\n",
    "        f.write(edgestr(cnum,cnum+1))\n",
    "        f.write(edgestr(cnum+1,cnum+2))\n",
    "        f.write(edgestr(cnum,cnum+2))\n",
    "        for j in range(3):\n",
    "            a = clauses[i][j]\n",
    "            if a in old:\n",
    "                for n in old[a]:\n",
    "                    f.write(edgestr(cnum+j,n))\n",
    "        for j in range(3):\n",
    "            a = clauses[i][j]\n",
    "            if -a in old:\n",
    "                old[-a].append(cnum+j)\n",
    "            else:\n",
    "                old[-a]=[cnum+j]\n",
    "        #print(old)\n",
    "        cnum+=3\n",
    "    f.write(\"$\")"
   ]
  }
 ],
 "metadata": {
  "kernelspec": {
   "display_name": "Python 3",
   "language": "python",
   "name": "python3"
  },
  "language_info": {
   "codemirror_mode": {
    "name": "ipython",
    "version": 3
   },
   "file_extension": ".py",
   "mimetype": "text/x-python",
   "name": "python",
   "nbconvert_exporter": "python",
   "pygments_lexer": "ipython3",
   "version": "3.10.10"
  },
  "orig_nbformat": 4
 },
 "nbformat": 4,
 "nbformat_minor": 2
}
