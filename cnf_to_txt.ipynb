{
 "cells": [
  {
   "cell_type": "code",
   "execution_count": 5,
   "metadata": {},
   "outputs": [],
   "source": [
    "FILENAME = \"uf100-430/uf100-01.cnf\"\n",
    "f = open(FILENAME,\"r\")\n",
    "OUTFILE = \"inputs/7.txt\"\n",
    "w = open(OUTFILE, \"w\")\n",
    "line = True\n",
    "while line!=\"\":\n",
    "    line = f.readline()\n",
    "    if len(line)==0:\n",
    "        break\n",
    "    if line[0] == \"c\":\n",
    "        continue\n",
    "    if line[0] == \"p\":\n",
    "        words = line.split()\n",
    "        w.write(words[2]+\"\\n\")\n",
    "        line = f.readline()\n",
    "        while line !=\"%\\n\":\n",
    "            nums = line.split()\n",
    "            w.write(nums[0]+\" \"+nums[1]+\" \"+nums[2]+\"\\n\")\n",
    "            line = f.readline()\n",
    "\n",
    "\n",
    "        \n",
    "f.close()\n",
    "w.close()"
   ]
  },
  {
   "cell_type": "code",
   "execution_count": 5,
   "metadata": {},
   "outputs": [
    {
     "name": "stdout",
     "output_type": "stream",
     "text": [
      "1\n",
      ":  test\n",
      "\n",
      "1\n",
      ":  \n"
     ]
    }
   ],
   "source": [
    "f = open(\"heuristic.cpp\",\"r\")\n",
    "line = True\n",
    "while line:\n",
    "    line = f.readline()\n",
    "    print(\": \",line)"
   ]
  }
 ],
 "metadata": {
  "kernelspec": {
   "display_name": "Python 3",
   "language": "python",
   "name": "python3"
  },
  "language_info": {
   "codemirror_mode": {
    "name": "ipython",
    "version": 3
   },
   "file_extension": ".py",
   "mimetype": "text/x-python",
   "name": "python",
   "nbconvert_exporter": "python",
   "pygments_lexer": "ipython3",
   "version": "3.10.10"
  },
  "orig_nbformat": 4
 },
 "nbformat": 4,
 "nbformat_minor": 2
}
